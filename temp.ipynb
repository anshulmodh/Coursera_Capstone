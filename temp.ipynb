{
 "cells": [
  {
   "cell_type": "markdown",
   "metadata": {},
   "source": [
    "# Predicting Sales Prices of Houses in Seattle\n",
    "### Applied Data Science Capstone offered by Coursera\n",
    "##### Author: Anshul Modh"
   ]
  },
  {
   "cell_type": "markdown",
   "metadata": {},
   "source": [
    "### Introduction and Business Problem"
   ]
  },
  {
   "cell_type": "markdown",
   "metadata": {},
   "source": [
    "In this notebook, we will attempt to predict the value of homes currently listed for sale in King County, Seattle. This report is designed to assist buyers in the Seattle area to determine whether there is room for negotiation in the listed price of a house and whether they are getting the most bang for their buck.  \n",
    "\n",
    "This report has the added benefit of determining what factors most contribute to the value of a home based upon historical sales. We will be most interested in houses in King County and using their public metadata as well as surrounding location data to build a prediction model.\n",
    "\n",
    "The goal of this notebook is to use historical sales data to predict the value of currently listed houses on the market. We would also like to produce some meaningful insights about the location of a particular listing and its price."
   ]
  },
  {
   "cell_type": "markdown",
   "metadata": {},
   "source": [
    "### Data"
   ]
  },
  {
   "cell_type": "markdown",
   "metadata": {},
   "source": [
    "Some of the data we would like to know about a particular house includes:\n",
    "* The price or listed price\n",
    "* location(geographically)\n",
    "* address\n",
    "* square footage\n",
    "* number of beds/bathrooms in the house\n",
    "* location data using the FourSquare API\n",
    "\n",
    "We will use the following sources to extract data:\n",
    "* realtor api\n",
    "* FourSquare\n",
    "* King County 2014 housing dataset\n",
    "* King County zip codes"
   ]
  }
 ],
 "metadata": {
  "kernelspec": {
   "display_name": "Python 3",
   "language": "python",
   "name": "python3"
  },
  "language_info": {
   "codemirror_mode": {
    "name": "ipython",
    "version": 3
   },
   "file_extension": ".py",
   "mimetype": "text/x-python",
   "name": "python",
   "nbconvert_exporter": "python",
   "pygments_lexer": "ipython3",
   "version": "3.7.3"
  }
 },
 "nbformat": 4,
 "nbformat_minor": 2
}
