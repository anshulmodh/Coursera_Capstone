{
 "cells": [
  {
   "cell_type": "code",
   "execution_count": 22,
   "metadata": {},
   "outputs": [],
   "source": [
    "import pandas as pd\n",
    "import numpy as np\n",
    "from bs4 import BeautifulSoup\n",
    "import requests\n",
    "from pandas.io.json import json_normalize"
   ]
  },
  {
   "cell_type": "code",
   "execution_count": 23,
   "metadata": {},
   "outputs": [
    {
     "name": "stdout",
     "output_type": "stream",
     "text": [
      "Index(['Postal code', 'Borough', 'Neighborhood'], dtype='object')\n"
     ]
    },
    {
     "data": {
      "text/html": [
       "<div>\n",
       "<style scoped>\n",
       "    .dataframe tbody tr th:only-of-type {\n",
       "        vertical-align: middle;\n",
       "    }\n",
       "\n",
       "    .dataframe tbody tr th {\n",
       "        vertical-align: top;\n",
       "    }\n",
       "\n",
       "    .dataframe thead th {\n",
       "        text-align: right;\n",
       "    }\n",
       "</style>\n",
       "<table border=\"1\" class=\"dataframe\">\n",
       "  <thead>\n",
       "    <tr style=\"text-align: right;\">\n",
       "      <th></th>\n",
       "      <th>Borough</th>\n",
       "      <th>Neighborhood</th>\n",
       "    </tr>\n",
       "    <tr>\n",
       "      <th>PostalCode</th>\n",
       "      <th></th>\n",
       "      <th></th>\n",
       "    </tr>\n",
       "  </thead>\n",
       "  <tbody>\n",
       "    <tr>\n",
       "      <th>M3A</th>\n",
       "      <td>North York</td>\n",
       "      <td>Parkwoods</td>\n",
       "    </tr>\n",
       "    <tr>\n",
       "      <th>M4A</th>\n",
       "      <td>North York</td>\n",
       "      <td>Victoria Village</td>\n",
       "    </tr>\n",
       "    <tr>\n",
       "      <th>M5A</th>\n",
       "      <td>Downtown Toronto</td>\n",
       "      <td>Regent Park / Harbourfront</td>\n",
       "    </tr>\n",
       "    <tr>\n",
       "      <th>M6A</th>\n",
       "      <td>North York</td>\n",
       "      <td>Lawrence Manor / Lawrence Heights</td>\n",
       "    </tr>\n",
       "    <tr>\n",
       "      <th>M7A</th>\n",
       "      <td>Downtown Toronto</td>\n",
       "      <td>Queen's Park / Ontario Provincial Government</td>\n",
       "    </tr>\n",
       "  </tbody>\n",
       "</table>\n",
       "</div>"
      ],
      "text/plain": [
       "                     Borough                                  Neighborhood\n",
       "PostalCode                                                                \n",
       "M3A               North York                                     Parkwoods\n",
       "M4A               North York                              Victoria Village\n",
       "M5A         Downtown Toronto                    Regent Park / Harbourfront\n",
       "M6A               North York             Lawrence Manor / Lawrence Heights\n",
       "M7A         Downtown Toronto  Queen's Park / Ontario Provincial Government"
      ]
     },
     "execution_count": 23,
     "metadata": {},
     "output_type": "execute_result"
    }
   ],
   "source": [
    "boroughs = ['Etobicoke', 'North York', 'Scarborough', 'York', 'East York', 'Downtown Toronto', 'East Toronto', 'Central Toronto', 'West Toronto', 'Mississauga']\n",
    "\n",
    "link = 'https://en.wikipedia.org/wiki/List_of_postal_codes_of_Canada:_M'\n",
    "data = pd.read_html(link)[0]\n",
    "df = pd.DataFrame(columns=['PostalCode', 'Borough', 'Neighborhood']).set_index('PostalCode')\n",
    "print(data.columns)\n",
    "postal = data['Postal code'].apply(pd.Series)[0]\n",
    "bor = data['Borough'].apply(pd.Series)[0]\n",
    "neigh = data['Neighborhood'].apply(pd.Series)[0]\n",
    "temp = pd.DataFrame({'PostalCode': pd.Series(postal), 'Borough': pd.Series(bor), 'Neighborhood': pd.Series(neigh)})\n",
    "temp = temp[temp['Neighborhood'].str.contains('Not assigned') == False]\n",
    "for borough in boroughs:\n",
    "    temp.loc[temp['Neighborhood'].str.startswith(borough) == 1, 'Borough'] = borough\n",
    "    temp.loc[temp['Neighborhood'].str.startswith(borough) == 1, 'Neighborhood'] = temp['Neighborhood'].str[len(borough):].str.replace('(', '').str.replace(')', '').str.replace(' /', ',' )\n",
    "df = pd.concat([df, temp.set_index('PostalCode')])\n",
    "df.head()\n"
   ]
  },
  {
   "cell_type": "code",
   "execution_count": 24,
   "metadata": {},
   "outputs": [
    {
     "data": {
      "text/html": [
       "<div>\n",
       "<style scoped>\n",
       "    .dataframe tbody tr th:only-of-type {\n",
       "        vertical-align: middle;\n",
       "    }\n",
       "\n",
       "    .dataframe tbody tr th {\n",
       "        vertical-align: top;\n",
       "    }\n",
       "\n",
       "    .dataframe thead th {\n",
       "        text-align: right;\n",
       "    }\n",
       "</style>\n",
       "<table border=\"1\" class=\"dataframe\">\n",
       "  <thead>\n",
       "    <tr style=\"text-align: right;\">\n",
       "      <th></th>\n",
       "      <th>PostalCode</th>\n",
       "      <th>Borough</th>\n",
       "      <th>Neighborhood</th>\n",
       "      <th>Latitude</th>\n",
       "      <th>Longitude</th>\n",
       "    </tr>\n",
       "  </thead>\n",
       "  <tbody>\n",
       "    <tr>\n",
       "      <th>0</th>\n",
       "      <td>M3A</td>\n",
       "      <td>North York</td>\n",
       "      <td>Parkwoods</td>\n",
       "      <td>43.753259</td>\n",
       "      <td>-79.329656</td>\n",
       "    </tr>\n",
       "    <tr>\n",
       "      <th>1</th>\n",
       "      <td>M4A</td>\n",
       "      <td>North York</td>\n",
       "      <td>Victoria Village</td>\n",
       "      <td>43.725882</td>\n",
       "      <td>-79.315572</td>\n",
       "    </tr>\n",
       "    <tr>\n",
       "      <th>2</th>\n",
       "      <td>M5A</td>\n",
       "      <td>Downtown Toronto</td>\n",
       "      <td>Regent Park / Harbourfront</td>\n",
       "      <td>43.654260</td>\n",
       "      <td>-79.360636</td>\n",
       "    </tr>\n",
       "    <tr>\n",
       "      <th>3</th>\n",
       "      <td>M6A</td>\n",
       "      <td>North York</td>\n",
       "      <td>Lawrence Manor / Lawrence Heights</td>\n",
       "      <td>43.718518</td>\n",
       "      <td>-79.464763</td>\n",
       "    </tr>\n",
       "    <tr>\n",
       "      <th>4</th>\n",
       "      <td>M7A</td>\n",
       "      <td>Downtown Toronto</td>\n",
       "      <td>Queen's Park / Ontario Provincial Government</td>\n",
       "      <td>43.662301</td>\n",
       "      <td>-79.389494</td>\n",
       "    </tr>\n",
       "  </tbody>\n",
       "</table>\n",
       "</div>"
      ],
      "text/plain": [
       "  PostalCode           Borough                                  Neighborhood  \\\n",
       "0        M3A        North York                                     Parkwoods   \n",
       "1        M4A        North York                              Victoria Village   \n",
       "2        M5A  Downtown Toronto                    Regent Park / Harbourfront   \n",
       "3        M6A        North York             Lawrence Manor / Lawrence Heights   \n",
       "4        M7A  Downtown Toronto  Queen's Park / Ontario Provincial Government   \n",
       "\n",
       "    Latitude  Longitude  \n",
       "0  43.753259 -79.329656  \n",
       "1  43.725882 -79.315572  \n",
       "2  43.654260 -79.360636  \n",
       "3  43.718518 -79.464763  \n",
       "4  43.662301 -79.389494  "
      ]
     },
     "execution_count": 24,
     "metadata": {},
     "output_type": "execute_result"
    }
   ],
   "source": [
    "coords = pd.read_csv('Geospatial_Coordinates.csv')\n",
    "coords = coords.rename(columns={'Postal Code': 'PostalCode'})\n",
    "df = pd.merge(df, coords, how='inner', on='PostalCode')\n",
    "df.head()"
   ]
  },
  {
   "cell_type": "code",
   "execution_count": 25,
   "metadata": {},
   "outputs": [
    {
     "name": "stdout",
     "output_type": "stream",
     "text": [
      "The geograpical coordinate of New York City are 43.6534817, -79.3839347.\n"
     ]
    }
   ],
   "source": [
    "import matplotlib.cm as cm\n",
    "import matplotlib.colors as colors\n",
    "from sklearn.cluster import KMeans\n",
    "import folium\n",
    "from geopy.geocoders import Nominatim\n",
    "\n",
    "address = 'Toronto, Ontario'\n",
    "\n",
    "geolocator = Nominatim(user_agent=\"ny_explorer\")\n",
    "location = geolocator.geocode(address)\n",
    "latitude = location.latitude\n",
    "longitude = location.longitude\n",
    "print('The geograpical coordinate of New York City are {}, {}.'.format(latitude, longitude))"
   ]
  },
  {
   "cell_type": "code",
   "execution_count": 26,
   "metadata": {},
   "outputs": [
    {
     "data": {
      "text/html": [
       "<div style=\"width:100%;\"><div style=\"position:relative;width:100%;height:0;padding-bottom:60%;\"><iframe src=\"about:blank\" style=\"position:absolute;width:100%;height:100%;left:0;top:0;border:none !important;\" data-html=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 onload=\"this.contentDocument.open();this.contentDocument.write(atob(this.getAttribute('data-html')));this.contentDocument.close();\" allowfullscreen webkitallowfullscreen mozallowfullscreen></iframe></div></div>"
      ],
      "text/plain": [
       "<folium.folium.Map at 0x1c204e93e80>"
      ]
     },
     "execution_count": 26,
     "metadata": {},
     "output_type": "execute_result"
    }
   ],
   "source": [
    "df = df[df['Borough'].str.contains('Toronto')].reset_index()\n",
    "map_toronto = folium.Map(location=[latitude, longitude], zoom_start=10)\n",
    "for lat, lng, borough, neighborhood in zip(df['Latitude'], df['Longitude'], df['Borough'], df['Neighborhood']):\n",
    "    label = '{}, {}'.format(neighborhood, borough)\n",
    "    label = folium.Popup(label, parse_html=True)\n",
    "    folium.CircleMarker(\n",
    "        [lat, lng],\n",
    "        radius=5,\n",
    "        popup=label,\n",
    "        color='blue',\n",
    "        fill=True,\n",
    "        fill_color='#3186cc',\n",
    "        fill_opacity=0.7,\n",
    "        parse_html=False).add_to(map_toronto)  \n",
    "map_toronto"
   ]
  },
  {
   "cell_type": "code",
   "execution_count": 27,
   "metadata": {},
   "outputs": [],
   "source": [
    "CLIENT_ID = 'EFRCH3WCWDQ3DBHURMC0TGZIRF1AD5X5NPW5DCCEXT1KXPXW' # your Foursquare ID\n",
    "CLIENT_SECRET = 'WQ4RQAI010LS3XXNR0E0TZNT0M10IM43OQMAWU5LYSWBTP20' # your Foursquare Secret\n",
    "VERSION = '20180605' # Foursquare API version"
   ]
  },
  {
   "cell_type": "code",
   "execution_count": 28,
   "metadata": {},
   "outputs": [
    {
     "data": {
      "text/html": [
       "<div>\n",
       "<style scoped>\n",
       "    .dataframe tbody tr th:only-of-type {\n",
       "        vertical-align: middle;\n",
       "    }\n",
       "\n",
       "    .dataframe tbody tr th {\n",
       "        vertical-align: top;\n",
       "    }\n",
       "\n",
       "    .dataframe thead th {\n",
       "        text-align: right;\n",
       "    }\n",
       "</style>\n",
       "<table border=\"1\" class=\"dataframe\">\n",
       "  <thead>\n",
       "    <tr style=\"text-align: right;\">\n",
       "      <th></th>\n",
       "      <th>index</th>\n",
       "      <th>PostalCode</th>\n",
       "      <th>Borough</th>\n",
       "      <th>Neighborhood</th>\n",
       "      <th>Latitude</th>\n",
       "      <th>Longitude</th>\n",
       "    </tr>\n",
       "  </thead>\n",
       "  <tbody>\n",
       "    <tr>\n",
       "      <th>0</th>\n",
       "      <td>2</td>\n",
       "      <td>M5A</td>\n",
       "      <td>Downtown Toronto</td>\n",
       "      <td>Regent Park / Harbourfront</td>\n",
       "      <td>43.654260</td>\n",
       "      <td>-79.360636</td>\n",
       "    </tr>\n",
       "    <tr>\n",
       "      <th>1</th>\n",
       "      <td>4</td>\n",
       "      <td>M7A</td>\n",
       "      <td>Downtown Toronto</td>\n",
       "      <td>Queen's Park / Ontario Provincial Government</td>\n",
       "      <td>43.662301</td>\n",
       "      <td>-79.389494</td>\n",
       "    </tr>\n",
       "    <tr>\n",
       "      <th>2</th>\n",
       "      <td>9</td>\n",
       "      <td>M5B</td>\n",
       "      <td>Downtown Toronto</td>\n",
       "      <td>Garden District, Ryerson</td>\n",
       "      <td>43.657162</td>\n",
       "      <td>-79.378937</td>\n",
       "    </tr>\n",
       "    <tr>\n",
       "      <th>3</th>\n",
       "      <td>15</td>\n",
       "      <td>M5C</td>\n",
       "      <td>Downtown Toronto</td>\n",
       "      <td>St. James Town</td>\n",
       "      <td>43.651494</td>\n",
       "      <td>-79.375418</td>\n",
       "    </tr>\n",
       "    <tr>\n",
       "      <th>4</th>\n",
       "      <td>19</td>\n",
       "      <td>M4E</td>\n",
       "      <td>East Toronto</td>\n",
       "      <td>The Beaches</td>\n",
       "      <td>43.676357</td>\n",
       "      <td>-79.293031</td>\n",
       "    </tr>\n",
       "  </tbody>\n",
       "</table>\n",
       "</div>"
      ],
      "text/plain": [
       "   index PostalCode           Borough  \\\n",
       "0      2        M5A  Downtown Toronto   \n",
       "1      4        M7A  Downtown Toronto   \n",
       "2      9        M5B  Downtown Toronto   \n",
       "3     15        M5C  Downtown Toronto   \n",
       "4     19        M4E      East Toronto   \n",
       "\n",
       "                                   Neighborhood   Latitude  Longitude  \n",
       "0                    Regent Park / Harbourfront  43.654260 -79.360636  \n",
       "1  Queen's Park / Ontario Provincial Government  43.662301 -79.389494  \n",
       "2                      Garden District, Ryerson  43.657162 -79.378937  \n",
       "3                                St. James Town  43.651494 -79.375418  \n",
       "4                                   The Beaches  43.676357 -79.293031  "
      ]
     },
     "execution_count": 28,
     "metadata": {},
     "output_type": "execute_result"
    }
   ],
   "source": [
    "df.head()"
   ]
  },
  {
   "cell_type": "code",
   "execution_count": 29,
   "metadata": {},
   "outputs": [
    {
     "data": {
      "text/plain": [
       "'Regent Park / Harbourfront'"
      ]
     },
     "execution_count": 29,
     "metadata": {},
     "output_type": "execute_result"
    }
   ],
   "source": [
    "df.loc[0, 'Neighborhood']"
   ]
  },
  {
   "cell_type": "code",
   "execution_count": 30,
   "metadata": {},
   "outputs": [
    {
     "name": "stdout",
     "output_type": "stream",
     "text": [
      "Latitude and longitude values of Regent Park / Harbourfront are 43.6542599, -79.3606359.\n"
     ]
    }
   ],
   "source": [
    "neighborhood_latitude = df.loc[0, 'Latitude'] # neighborhood latitude value\n",
    "neighborhood_longitude = df.loc[0, 'Longitude'] # neighborhood longitude value\n",
    "\n",
    "neighborhood_name = df.loc[0, 'Neighborhood'] # neighborhood name\n",
    "\n",
    "print('Latitude and longitude values of {} are {}, {}.'.format(neighborhood_name, \n",
    "                                                               neighborhood_latitude, \n",
    "                                                               neighborhood_longitude))"
   ]
  },
  {
   "cell_type": "code",
   "execution_count": 31,
   "metadata": {},
   "outputs": [],
   "source": [
    "url = 'https://api.foursquare.com/v2/venues/explore?&client_id={}&client_secret={}&v={}&ll={},{}&radius={}&limit={}'.format(\n",
    "    CLIENT_ID, \n",
    "    CLIENT_SECRET, \n",
    "    VERSION, \n",
    "    neighborhood_latitude, \n",
    "    neighborhood_longitude, \n",
    "    500, \n",
    "    100)\n",
    "results = requests.get(url).json()"
   ]
  },
  {
   "cell_type": "code",
   "execution_count": 32,
   "metadata": {},
   "outputs": [
    {
     "name": "stdout",
     "output_type": "stream",
     "text": [
      "Regent Park / Harbourfront\n"
     ]
    },
    {
     "ename": "KeyError",
     "evalue": "'groups'",
     "output_type": "error",
     "traceback": [
      "\u001b[1;31m---------------------------------------------------------------------------\u001b[0m",
      "\u001b[1;31mKeyError\u001b[0m                                  Traceback (most recent call last)",
      "\u001b[1;32m<ipython-input-32-790ed1d9caaf>\u001b[0m in \u001b[0;36m<module>\u001b[1;34m\u001b[0m\n\u001b[0;32m     41\u001b[0m toronto_venues = getNearbyVenues(names=df['Neighborhood'],\n\u001b[0;32m     42\u001b[0m                                    \u001b[0mlatitudes\u001b[0m\u001b[1;33m=\u001b[0m\u001b[0mdf\u001b[0m\u001b[1;33m[\u001b[0m\u001b[1;34m'Latitude'\u001b[0m\u001b[1;33m]\u001b[0m\u001b[1;33m,\u001b[0m\u001b[1;33m\u001b[0m\u001b[1;33m\u001b[0m\u001b[0m\n\u001b[1;32m---> 43\u001b[1;33m                                    \u001b[0mlongitudes\u001b[0m\u001b[1;33m=\u001b[0m\u001b[0mdf\u001b[0m\u001b[1;33m[\u001b[0m\u001b[1;34m'Longitude'\u001b[0m\u001b[1;33m]\u001b[0m\u001b[1;33m\u001b[0m\u001b[1;33m\u001b[0m\u001b[0m\n\u001b[0m\u001b[0;32m     44\u001b[0m                                   )\n",
      "\u001b[1;32m<ipython-input-32-790ed1d9caaf>\u001b[0m in \u001b[0;36mgetNearbyVenues\u001b[1;34m(names, latitudes, longitudes, radius)\u001b[0m\n\u001b[0;32m     16\u001b[0m \u001b[1;33m\u001b[0m\u001b[0m\n\u001b[0;32m     17\u001b[0m         \u001b[1;31m# make the GET request\u001b[0m\u001b[1;33m\u001b[0m\u001b[1;33m\u001b[0m\u001b[1;33m\u001b[0m\u001b[0m\n\u001b[1;32m---> 18\u001b[1;33m         \u001b[0mresults\u001b[0m \u001b[1;33m=\u001b[0m \u001b[0mrequests\u001b[0m\u001b[1;33m.\u001b[0m\u001b[0mget\u001b[0m\u001b[1;33m(\u001b[0m\u001b[0murl\u001b[0m\u001b[1;33m)\u001b[0m\u001b[1;33m.\u001b[0m\u001b[0mjson\u001b[0m\u001b[1;33m(\u001b[0m\u001b[1;33m)\u001b[0m\u001b[1;33m[\u001b[0m\u001b[1;34m\"response\"\u001b[0m\u001b[1;33m]\u001b[0m\u001b[1;33m[\u001b[0m\u001b[1;34m'groups'\u001b[0m\u001b[1;33m]\u001b[0m\u001b[1;33m[\u001b[0m\u001b[1;36m0\u001b[0m\u001b[1;33m]\u001b[0m\u001b[1;33m[\u001b[0m\u001b[1;34m'items'\u001b[0m\u001b[1;33m]\u001b[0m\u001b[1;33m\u001b[0m\u001b[1;33m\u001b[0m\u001b[0m\n\u001b[0m\u001b[0;32m     19\u001b[0m \u001b[1;33m\u001b[0m\u001b[0m\n\u001b[0;32m     20\u001b[0m         \u001b[1;31m# return only relevant information for each nearby venue\u001b[0m\u001b[1;33m\u001b[0m\u001b[1;33m\u001b[0m\u001b[1;33m\u001b[0m\u001b[0m\n",
      "\u001b[1;31mKeyError\u001b[0m: 'groups'"
     ]
    }
   ],
   "source": [
    "def getNearbyVenues(names, latitudes, longitudes, radius=500):\n",
    "    \n",
    "    venues_list=[]\n",
    "    for name, lat, lng in zip(names, latitudes, longitudes):\n",
    "        print(name)\n",
    "            \n",
    "        # create the API request URL\n",
    "        url = 'https://api.foursquare.com/v2/venues/explore?&client_id={}&client_secret={}&v={}&ll={},{}&radius={}&limit={}'.format(\n",
    "            CLIENT_ID, \n",
    "            CLIENT_SECRET, \n",
    "            VERSION, \n",
    "            lat, \n",
    "            lng, \n",
    "            radius, \n",
    "            100)\n",
    "            \n",
    "        # make the GET request\n",
    "        results = requests.get(url).json()[\"response\"]['groups'][0]['items']\n",
    "        \n",
    "        # return only relevant information for each nearby venue\n",
    "        venues_list.append([(\n",
    "            name, \n",
    "            lat, \n",
    "            lng, \n",
    "            v['venue']['name'], \n",
    "            v['venue']['location']['lat'], \n",
    "            v['venue']['location']['lng'],  \n",
    "            v['venue']['categories'][0]['name']) for v in results])\n",
    "\n",
    "    nearby_venues = pd.DataFrame([item for venue_list in venues_list for item in venue_list])\n",
    "    nearby_venues.columns = ['Neighborhood', \n",
    "                  'Neighborhood Latitude', \n",
    "                  'Neighborhood Longitude', \n",
    "                  'Venue', \n",
    "                  'Venue Latitude', \n",
    "                  'Venue Longitude', \n",
    "                  'Venue Category']\n",
    "    \n",
    "    return(nearby_venues)\n",
    "    \n",
    "toronto_venues = getNearbyVenues(names=df['Neighborhood'],\n",
    "                                   latitudes=df['Latitude'],\n",
    "                                   longitudes=df['Longitude']\n",
    "                                  )"
   ]
  },
  {
   "cell_type": "code",
   "execution_count": null,
   "metadata": {},
   "outputs": [],
   "source": [
    "print(toronto_venues.shape)\n",
    "toronto_venues.head()"
   ]
  },
  {
   "cell_type": "code",
   "execution_count": null,
   "metadata": {},
   "outputs": [],
   "source": [
    "toronto_venues.groupby('Neighborhood')['Venue'].count()"
   ]
  },
  {
   "cell_type": "code",
   "execution_count": null,
   "metadata": {},
   "outputs": [],
   "source": [
    "print('There are {} uniques categories.'.format(len(toronto_venues['Venue Category'].unique())))"
   ]
  },
  {
   "cell_type": "code",
   "execution_count": null,
   "metadata": {},
   "outputs": [],
   "source": [
    "toronto_encoded = pd.get_dummies(toronto_venues[['Venue Category']], prefix=\"\", prefix_sep=\"\")\n",
    "toronto_encoded['Neighborhood'] = toronto_venues['Neighborhood'] \n",
    "fixed_columns = [toronto_encoded.columns[-1]] + list(toronto_encoded.columns[:-1])\n",
    "toronto_encoded = toronto_encoded[fixed_columns]\n",
    "toronto_encoded.head()"
   ]
  },
  {
   "cell_type": "code",
   "execution_count": null,
   "metadata": {},
   "outputs": [],
   "source": [
    "toronto_encoded.shape"
   ]
  },
  {
   "cell_type": "code",
   "execution_count": null,
   "metadata": {},
   "outputs": [],
   "source": [
    "toronto_grouped = toronto_encoded.groupby('Neighborhood').mean().reset_index()\n",
    "toronto_grouped.head()"
   ]
  },
  {
   "cell_type": "code",
   "execution_count": null,
   "metadata": {},
   "outputs": [],
   "source": [
    "num_top_venues = 5\n",
    "\n",
    "for hood in toronto_grouped['Neighborhood']:\n",
    "    print(\"----\"+hood+\"----\")\n",
    "    temp = toronto_grouped[toronto_grouped['Neighborhood'] == hood].T.reset_index()\n",
    "    temp.columns = ['venue','freq']\n",
    "    temp = temp.iloc[1:]\n",
    "    temp['freq'] = temp['freq'].astype(float)\n",
    "    temp = temp.round({'freq': 2})\n",
    "    print(temp.sort_values('freq', ascending=False).reset_index(drop=True).head(num_top_venues))\n",
    "    print('\\n')"
   ]
  },
  {
   "cell_type": "code",
   "execution_count": null,
   "metadata": {},
   "outputs": [],
   "source": [
    "def return_most_common_venues(row, num_top_venues):\n",
    "    row_categories = row.iloc[1:]\n",
    "    row_categories_sorted = row_categories.sort_values(ascending=False)\n",
    "    \n",
    "    return row_categories_sorted.index.values[0:num_top_venues]\n",
    "\n",
    "num_top_venues = 10\n",
    "indicators = ['st', 'nd', 'rd']\n",
    "columns = ['Neighborhood']\n",
    "for ind in np.arange(num_top_venues):\n",
    "    try:\n",
    "        columns.append('{}{} Most Common Venue'.format(ind+1, indicators[ind]))\n",
    "    except:\n",
    "        columns.append('{}th Most Common Venue'.format(ind+1))\n",
    "neighborhoods_venues_sorted = pd.DataFrame(columns=columns)\n",
    "neighborhoods_venues_sorted['Neighborhood'] = toronto_grouped['Neighborhood']\n",
    "\n",
    "for ind in np.arange(toronto_grouped.shape[0]):\n",
    "    neighborhoods_venues_sorted.iloc[ind, 1:] = return_most_common_venues(toronto_grouped.iloc[ind, :], num_top_venues)\n",
    "\n",
    "neighborhoods_venues_sorted.head()"
   ]
  },
  {
   "cell_type": "code",
   "execution_count": null,
   "metadata": {},
   "outputs": [],
   "source": [
    "# set number of clusters\n",
    "kclusters = 5\n",
    "toronto_cluster = toronto_grouped.drop('Neighborhood', 1)\n",
    "kmeans = KMeans(n_clusters=kclusters, random_state=0).fit(toronto_cluster)\n",
    "kmeans.labels_[0:10] "
   ]
  },
  {
   "cell_type": "code",
   "execution_count": null,
   "metadata": {},
   "outputs": [],
   "source": [
    "neighborhoods_venues_sorted.insert(0, 'Cluster Labels', kmeans.labels_)\n",
    "toronto = df\n",
    "toronto = toronto.join(neighborhoods_venues_sorted.set_index('Neighborhood'), on='Neighborhood')\n",
    "toronto.head()"
   ]
  },
  {
   "cell_type": "code",
   "execution_count": null,
   "metadata": {},
   "outputs": [],
   "source": [
    "map_clusters = folium.Map(location=[latitude, longitude], zoom_start=11)\n",
    "\n",
    "# set color scheme for the clusters\n",
    "x = np.arange(kclusters)\n",
    "ys = [i + x + (i*x)**2 for i in range(kclusters)]\n",
    "colors_array = cm.rainbow(np.linspace(0, 1, len(ys)))\n",
    "rainbow = [colors.rgb2hex(i) for i in colors_array]\n",
    "\n",
    "# add markers to the map\n",
    "markers_colors = []\n",
    "for lat, lon, poi, cluster in zip(toronto['Latitude'], toronto['Longitude'], toronto['Neighborhood'], toronto['Cluster Labels']):\n",
    "    label = folium.Popup(str(poi) + ' Cluster ' + str(cluster), parse_html=True)\n",
    "    folium.CircleMarker(\n",
    "        [lat, lon],\n",
    "        radius=5,\n",
    "        popup=label,\n",
    "        color=rainbow[cluster - 1],\n",
    "        fill=True,\n",
    "        fill_color=rainbow[cluster-1],\n",
    "        fill_opacity=0.7).add_to(map_clusters)\n",
    "       \n",
    "map_clusters"
   ]
  },
  {
   "cell_type": "code",
   "execution_count": null,
   "metadata": {},
   "outputs": [],
   "source": []
  },
  {
   "cell_type": "code",
   "execution_count": null,
   "metadata": {},
   "outputs": [],
   "source": []
  }
 ],
 "metadata": {
  "kernelspec": {
   "display_name": "Python 3",
   "language": "python",
   "name": "python3"
  },
  "language_info": {
   "codemirror_mode": {
    "name": "ipython",
    "version": 3
   },
   "file_extension": ".py",
   "mimetype": "text/x-python",
   "name": "python",
   "nbconvert_exporter": "python",
   "pygments_lexer": "ipython3",
   "version": "3.7.3"
  }
 },
 "nbformat": 4,
 "nbformat_minor": 2
}
