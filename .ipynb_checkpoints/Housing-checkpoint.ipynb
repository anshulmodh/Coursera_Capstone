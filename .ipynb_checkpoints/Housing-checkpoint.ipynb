{
 "cells": [
  {
   "cell_type": "markdown",
   "metadata": {},
   "source": [
    "# Predicting Sales Prices of Houses in Seattle\n",
    "### Applied Data Science Capstone offered by Coursera\n",
    "##### Author: Anshul Modh"
   ]
  },
  {
   "cell_type": "markdown",
   "metadata": {},
   "source": [
    "### Table of Contents"
   ]
  },
  {
   "cell_type": "code",
   "execution_count": null,
   "metadata": {},
   "outputs": [],
   "source": []
  },
  {
   "cell_type": "markdown",
   "metadata": {},
   "source": [
    "### Introduction and Business Problem"
   ]
  },
  {
   "cell_type": "code",
   "execution_count": null,
   "metadata": {},
   "outputs": [],
   "source": []
  },
  {
   "cell_type": "markdown",
   "metadata": {},
   "source": [
    "### Data"
   ]
  },
  {
   "cell_type": "code",
   "execution_count": 2,
   "metadata": {},
   "outputs": [],
   "source": [
    "import requests\n",
    "import json\n",
    "import pandas as pd\n",
    "\n",
    "host = \"realtor.p.rapidapi.com\"\n",
    "key = \"1677e25060msh0ac42439fc28d46p1fa7bcjsn3e04907020bb\"\n",
    "\n",
    "headers = {'x-rapidapi-host': host, 'x-rapidapi-key': key}\n",
    "def findHouses(url, headers):\n",
    "    query = {\"sort\":\"relevance\",\"radius\":\"20\",\"city\":\"Seattle\",\"offset\":\"0\",\"limit\":\"200\",\"state_code\":\"WA\"}\n",
    "    df = pd.DataFrame()\n",
    "    curOffset = 0\n",
    "    data = {'returned_rows': 1}\n",
    "    while(curOffset != 10000 and data.get('returned_rows') != 0):\n",
    "        try:\n",
    "            query['offset'] = curOffset\n",
    "            response = requests.get(url=url, headers=headers, params=query)\n",
    "            response.text\n",
    "            data = response.json()\n",
    "            curOffset += data.get('returned_rows')\n",
    "            print(str(data.get('returned_rows')) + \" rows returned from \" + str(data.get('matching_rows')) + \" found, currently at row position \" +  str(curOffset) + \".\")\n",
    "            if df.empty:\n",
    "                df = pd.read_json(json.dumps(data.get('listings')))\n",
    "            else:\n",
    "                df = df.append(pd.read_json(json.dumps(data.get('listings'))), sort=True)\n",
    "        except:\n",
    "            print(response.text)\n",
    "    return df"
   ]
  },
  {
   "cell_type": "code",
   "execution_count": 4,
   "metadata": {},
   "outputs": [
    {
     "name": "stdout",
     "output_type": "stream",
     "text": [
      "200 rows returned from 9333 found, currently at row position 200.\n",
      "200 rows returned from 9333 found, currently at row position 400.\n",
      "200 rows returned from 9333 found, currently at row position 600.\n",
      "200 rows returned from 9333 found, currently at row position 800.\n",
      "200 rows returned from 9333 found, currently at row position 1000.\n",
      "200 rows returned from 9333 found, currently at row position 1200.\n",
      "200 rows returned from 9333 found, currently at row position 1400.\n",
      "200 rows returned from 9333 found, currently at row position 1600.\n",
      "200 rows returned from 9333 found, currently at row position 1800.\n",
      "200 rows returned from 9333 found, currently at row position 2000.\n",
      "200 rows returned from 9333 found, currently at row position 2200.\n",
      "200 rows returned from 9333 found, currently at row position 2400.\n",
      "200 rows returned from 9333 found, currently at row position 2600.\n",
      "200 rows returned from 9333 found, currently at row position 2800.\n",
      "200 rows returned from 9333 found, currently at row position 3000.\n",
      "200 rows returned from 9333 found, currently at row position 3200.\n",
      "200 rows returned from 9333 found, currently at row position 3400.\n",
      "200 rows returned from 9333 found, currently at row position 3600.\n",
      "200 rows returned from 9333 found, currently at row position 3800.\n",
      "200 rows returned from 9333 found, currently at row position 4000.\n",
      "200 rows returned from 9333 found, currently at row position 4200.\n",
      "200 rows returned from 9333 found, currently at row position 4400.\n",
      "200 rows returned from 9333 found, currently at row position 4600.\n",
      "200 rows returned from 9333 found, currently at row position 4800.\n",
      "200 rows returned from 9333 found, currently at row position 5000.\n",
      "200 rows returned from 9333 found, currently at row position 5200.\n",
      "200 rows returned from 9333 found, currently at row position 5400.\n",
      "200 rows returned from 9333 found, currently at row position 5600.\n",
      "200 rows returned from 9333 found, currently at row position 5800.\n",
      "200 rows returned from 9333 found, currently at row position 6000.\n",
      "200 rows returned from 9333 found, currently at row position 6200.\n",
      "200 rows returned from 9333 found, currently at row position 6400.\n",
      "200 rows returned from 9333 found, currently at row position 6600.\n",
      "200 rows returned from 9333 found, currently at row position 6800.\n",
      "200 rows returned from 9333 found, currently at row position 7000.\n",
      "200 rows returned from 9333 found, currently at row position 7200.\n",
      "200 rows returned from 9333 found, currently at row position 7400.\n",
      "200 rows returned from 9333 found, currently at row position 7600.\n",
      "200 rows returned from 9333 found, currently at row position 7800.\n",
      "200 rows returned from 9333 found, currently at row position 8000.\n",
      "200 rows returned from 9333 found, currently at row position 8200.\n",
      "200 rows returned from 9333 found, currently at row position 8400.\n",
      "200 rows returned from 9333 found, currently at row position 8600.\n",
      "200 rows returned from 9333 found, currently at row position 8800.\n",
      "200 rows returned from 9333 found, currently at row position 9000.\n",
      "200 rows returned from 9333 found, currently at row position 9200.\n",
      "133 rows returned from 9333 found, currently at row position 9333.\n",
      "0 rows returned from 9333 found, currently at row position 9333.\n"
     ]
    }
   ],
   "source": [
    "url =  \"https://realtor.p.rapidapi.com/properties/list-for-sale\"\n",
    "houses_for_sale = findHouses(url, headers)"
   ]
  },
  {
   "cell_type": "code",
   "execution_count": 5,
   "metadata": {},
   "outputs": [],
   "source": [
    "houses_for_sale.to_csv('forSale.csv', index=False)"
   ]
  },
  {
   "cell_type": "code",
   "execution_count": 3,
   "metadata": {},
   "outputs": [],
   "source": [
    "houses_for_sale = pd.read_csv('forSale.csv')"
   ]
  },
  {
   "cell_type": "code",
   "execution_count": 7,
   "metadata": {},
   "outputs": [
    {
     "data": {
      "text/html": [
       "<div>\n",
       "<style scoped>\n",
       "    .dataframe tbody tr th:only-of-type {\n",
       "        vertical-align: middle;\n",
       "    }\n",
       "\n",
       "    .dataframe tbody tr th {\n",
       "        vertical-align: top;\n",
       "    }\n",
       "\n",
       "    .dataframe thead th {\n",
       "        text-align: right;\n",
       "    }\n",
       "</style>\n",
       "<table border=\"1\" class=\"dataframe\">\n",
       "  <thead>\n",
       "    <tr style=\"text-align: right;\">\n",
       "      <th></th>\n",
       "      <th>price</th>\n",
       "      <th>bedrooms</th>\n",
       "      <th>bathrooms</th>\n",
       "      <th>sqft_living</th>\n",
       "      <th>sqft_lot</th>\n",
       "      <th>floors</th>\n",
       "      <th>waterfront</th>\n",
       "      <th>view</th>\n",
       "      <th>condition</th>\n",
       "      <th>grade</th>\n",
       "      <th>sqft_above</th>\n",
       "      <th>sqft_basement</th>\n",
       "      <th>yr_built</th>\n",
       "      <th>lat</th>\n",
       "      <th>long</th>\n",
       "    </tr>\n",
       "  </thead>\n",
       "  <tbody>\n",
       "    <tr>\n",
       "      <th>0</th>\n",
       "      <td>221900.0</td>\n",
       "      <td>3</td>\n",
       "      <td>1.00</td>\n",
       "      <td>1180</td>\n",
       "      <td>5650</td>\n",
       "      <td>1.0</td>\n",
       "      <td>0</td>\n",
       "      <td>0</td>\n",
       "      <td>3</td>\n",
       "      <td>7</td>\n",
       "      <td>1180</td>\n",
       "      <td>0</td>\n",
       "      <td>1955</td>\n",
       "      <td>47.5112</td>\n",
       "      <td>-122.257</td>\n",
       "    </tr>\n",
       "    <tr>\n",
       "      <th>1</th>\n",
       "      <td>538000.0</td>\n",
       "      <td>3</td>\n",
       "      <td>2.25</td>\n",
       "      <td>2570</td>\n",
       "      <td>7242</td>\n",
       "      <td>2.0</td>\n",
       "      <td>0</td>\n",
       "      <td>0</td>\n",
       "      <td>3</td>\n",
       "      <td>7</td>\n",
       "      <td>2170</td>\n",
       "      <td>400</td>\n",
       "      <td>1951</td>\n",
       "      <td>47.7210</td>\n",
       "      <td>-122.319</td>\n",
       "    </tr>\n",
       "    <tr>\n",
       "      <th>2</th>\n",
       "      <td>180000.0</td>\n",
       "      <td>2</td>\n",
       "      <td>1.00</td>\n",
       "      <td>770</td>\n",
       "      <td>10000</td>\n",
       "      <td>1.0</td>\n",
       "      <td>0</td>\n",
       "      <td>0</td>\n",
       "      <td>3</td>\n",
       "      <td>6</td>\n",
       "      <td>770</td>\n",
       "      <td>0</td>\n",
       "      <td>1933</td>\n",
       "      <td>47.7379</td>\n",
       "      <td>-122.233</td>\n",
       "    </tr>\n",
       "    <tr>\n",
       "      <th>3</th>\n",
       "      <td>604000.0</td>\n",
       "      <td>4</td>\n",
       "      <td>3.00</td>\n",
       "      <td>1960</td>\n",
       "      <td>5000</td>\n",
       "      <td>1.0</td>\n",
       "      <td>0</td>\n",
       "      <td>0</td>\n",
       "      <td>5</td>\n",
       "      <td>7</td>\n",
       "      <td>1050</td>\n",
       "      <td>910</td>\n",
       "      <td>1965</td>\n",
       "      <td>47.5208</td>\n",
       "      <td>-122.393</td>\n",
       "    </tr>\n",
       "    <tr>\n",
       "      <th>4</th>\n",
       "      <td>510000.0</td>\n",
       "      <td>3</td>\n",
       "      <td>2.00</td>\n",
       "      <td>1680</td>\n",
       "      <td>8080</td>\n",
       "      <td>1.0</td>\n",
       "      <td>0</td>\n",
       "      <td>0</td>\n",
       "      <td>3</td>\n",
       "      <td>8</td>\n",
       "      <td>1680</td>\n",
       "      <td>0</td>\n",
       "      <td>1987</td>\n",
       "      <td>47.6168</td>\n",
       "      <td>-122.045</td>\n",
       "    </tr>\n",
       "  </tbody>\n",
       "</table>\n",
       "</div>"
      ],
      "text/plain": [
       "      price  bedrooms  bathrooms  sqft_living  sqft_lot  floors  waterfront  \\\n",
       "0  221900.0         3       1.00         1180      5650     1.0           0   \n",
       "1  538000.0         3       2.25         2570      7242     2.0           0   \n",
       "2  180000.0         2       1.00          770     10000     1.0           0   \n",
       "3  604000.0         4       3.00         1960      5000     1.0           0   \n",
       "4  510000.0         3       2.00         1680      8080     1.0           0   \n",
       "\n",
       "   view  condition  grade  sqft_above  sqft_basement  yr_built      lat  \\\n",
       "0     0          3      7        1180              0      1955  47.5112   \n",
       "1     0          3      7        2170            400      1951  47.7210   \n",
       "2     0          3      6         770              0      1933  47.7379   \n",
       "3     0          5      7        1050            910      1965  47.5208   \n",
       "4     0          3      8        1680              0      1987  47.6168   \n",
       "\n",
       "      long  \n",
       "0 -122.257  \n",
       "1 -122.319  \n",
       "2 -122.233  \n",
       "3 -122.393  \n",
       "4 -122.045  "
      ]
     },
     "execution_count": 7,
     "metadata": {},
     "output_type": "execute_result"
    }
   ],
   "source": [
    "houses_sold = pd.read_csv('kc_house_data.csv').drop(['id', 'date', 'yr_renovated', 'zipcode', 'sqft_living15', 'sqft_lot15'], axis=1)\n",
    "houses_sold.head()"
   ]
  },
  {
   "cell_type": "code",
   "execution_count": 6,
   "metadata": {},
   "outputs": [],
   "source": [
    "CLIENT_ID = 'EFRCH3WCWDQ3DBHURMC0TGZIRF1AD5X5NPW5DCCEXT1KXPXW' # your Foursquare ID\n",
    "CLIENT_SECRET = 'WQ4RQAI010LS3XXNR0E0TZNT0M10IM43OQMAWU5LYSWBTP20' # your Foursquare Secret\n",
    "VERSION = '20180605' # Foursquare API version"
   ]
  },
  {
   "cell_type": "code",
   "execution_count": null,
   "metadata": {},
   "outputs": [],
   "source": [
    "def getNearbyVenues(latitudes, longitudes, radius=500):\n",
    "    venues_list=[]\n",
    "    for lat, lng in zip(latitudes, longitudes):\n",
    "        try:\n",
    "            url = 'https://api.foursquare.com/v2/venues/explore?&client_id={}&client_secret={}&v={}&ll={},{}&radius={}&limit={}'.format(\n",
    "                CLIENT_ID, \n",
    "                CLIENT_SECRET, \n",
    "                VERSION, \n",
    "                lat, \n",
    "                lng, \n",
    "                radius, \n",
    "                100)\n",
    "            results = requests.get(url).json()[\"response\"]['groups'][0]['items']\n",
    "            venues_list.append([(\n",
    "                lat, \n",
    "                lng, \n",
    "                v['venue']['name'], \n",
    "                v['venue']['location']['lat'], \n",
    "                v['venue']['location']['lng'],  \n",
    "                v['venue']['categories'][0]) for v in results])\n",
    "            nearby_venues = pd.DataFrame([item for venue_list in venues_list for item in venue_list])\n",
    "            nearby_venues.columns = [ \n",
    "                      'Neighborhood Latitude', \n",
    "                      'Neighborhood Longitude', \n",
    "                      'Venue', \n",
    "                      'Venue Latitude', \n",
    "                      'Venue Longitude', \n",
    "                      'Venue Category']\n",
    "        except:\n",
    "            pass\n",
    "    return(nearby_venues)\n",
    "\n",
    "venues = getNearbyVenues(houses_sold['lat'], houses_sold['long'])"
   ]
  },
  {
   "cell_type": "code",
   "execution_count": 50,
   "metadata": {},
   "outputs": [],
   "source": [
    "houses_for_sale['baths_half'].fillna(0, inplace=True)\n",
    "houses_for_sale['baths_full'].fillna(0, inplace=True)\n",
    "houses_for_sale['bathrooms'] = houses_for_sale['baths_full'] + (houses_for_sale['baths_half'] / 2)\n",
    "houses_formatted = houses_for_sale[['bathrooms', 'beds', 'lat', 'lon', 'lot_size', 'price_raw', 'sqft_raw']].rename(columns={'beds': 'bedrooms', 'lat': 'latitude', 'lon': 'longitude', 'lot_size': 'sqft_lot', 'sqft_raw': 'sqft', 'price_raw': 'price'})\n",
    "sales_formatted = houses_sold.drop(['floors', 'waterfront', 'view', 'condition', 'grade', 'sqft_above', 'sqft_basement', 'yr_built'], axis=1).rename(columns={'sqft_living': 'sqft', 'lat': 'latitude', 'long': 'longitude'})\n",
    "houses_formatted['']"
   ]
  },
  {
   "cell_type": "code",
   "execution_count": 53,
   "metadata": {},
   "outputs": [
    {
     "data": {
      "text/plain": [
       "bathrooms    float64\n",
       "bedrooms       int64\n",
       "latitude     float64\n",
       "lon          float64\n",
       "sqft_lot      object\n",
       "price          int64\n",
       "sqft         float64\n",
       "dtype: object"
      ]
     },
     "execution_count": 53,
     "metadata": {},
     "output_type": "execute_result"
    }
   ],
   "source": [
    "houses_formatted.dtypes"
   ]
  },
  {
   "cell_type": "code",
   "execution_count": 54,
   "metadata": {},
   "outputs": [
    {
     "data": {
      "text/plain": [
       "price        float64\n",
       "bedrooms       int64\n",
       "bathrooms    float64\n",
       "sqft           int64\n",
       "sqft_lot       int64\n",
       "latitude     float64\n",
       "longitude    float64\n",
       "dtype: object"
      ]
     },
     "execution_count": 54,
     "metadata": {},
     "output_type": "execute_result"
    }
   ],
   "source": [
    "sales_formatted.dtypes"
   ]
  },
  {
   "cell_type": "code",
   "execution_count": 51,
   "metadata": {},
   "outputs": [
    {
     "data": {
      "text/html": [
       "<div>\n",
       "<style scoped>\n",
       "    .dataframe tbody tr th:only-of-type {\n",
       "        vertical-align: middle;\n",
       "    }\n",
       "\n",
       "    .dataframe tbody tr th {\n",
       "        vertical-align: top;\n",
       "    }\n",
       "\n",
       "    .dataframe thead th {\n",
       "        text-align: right;\n",
       "    }\n",
       "</style>\n",
       "<table border=\"1\" class=\"dataframe\">\n",
       "  <thead>\n",
       "    <tr style=\"text-align: right;\">\n",
       "      <th></th>\n",
       "      <th>bathrooms</th>\n",
       "      <th>bedrooms</th>\n",
       "      <th>latitude</th>\n",
       "      <th>lon</th>\n",
       "      <th>sqft_lot</th>\n",
       "      <th>price</th>\n",
       "      <th>sqft</th>\n",
       "    </tr>\n",
       "  </thead>\n",
       "  <tbody>\n",
       "    <tr>\n",
       "      <th>0</th>\n",
       "      <td>1.0</td>\n",
       "      <td>2</td>\n",
       "      <td>47.730611</td>\n",
       "      <td>-122.172379</td>\n",
       "      <td>NaN</td>\n",
       "      <td>285000</td>\n",
       "      <td>930.0</td>\n",
       "    </tr>\n",
       "    <tr>\n",
       "      <th>1</th>\n",
       "      <td>1.0</td>\n",
       "      <td>2</td>\n",
       "      <td>47.358163</td>\n",
       "      <td>-122.318999</td>\n",
       "      <td>0.33 acres</td>\n",
       "      <td>428500</td>\n",
       "      <td>1980.0</td>\n",
       "    </tr>\n",
       "    <tr>\n",
       "      <th>2</th>\n",
       "      <td>0.0</td>\n",
       "      <td>0</td>\n",
       "      <td>47.227680</td>\n",
       "      <td>-122.440260</td>\n",
       "      <td>7,588 sq ft lot</td>\n",
       "      <td>749900</td>\n",
       "      <td>3500.0</td>\n",
       "    </tr>\n",
       "  </tbody>\n",
       "</table>\n",
       "</div>"
      ],
      "text/plain": [
       "   bathrooms  bedrooms   latitude         lon         sqft_lot   price    sqft\n",
       "0        1.0         2  47.730611 -122.172379              NaN  285000   930.0\n",
       "1        1.0         2  47.358163 -122.318999       0.33 acres  428500  1980.0\n",
       "2        0.0         0  47.227680 -122.440260  7,588 sq ft lot  749900  3500.0"
      ]
     },
     "execution_count": 51,
     "metadata": {},
     "output_type": "execute_result"
    }
   ],
   "source": [
    "houses_formatted.head(3)"
   ]
  },
  {
   "cell_type": "code",
   "execution_count": 52,
   "metadata": {},
   "outputs": [
    {
     "data": {
      "text/html": [
       "<div>\n",
       "<style scoped>\n",
       "    .dataframe tbody tr th:only-of-type {\n",
       "        vertical-align: middle;\n",
       "    }\n",
       "\n",
       "    .dataframe tbody tr th {\n",
       "        vertical-align: top;\n",
       "    }\n",
       "\n",
       "    .dataframe thead th {\n",
       "        text-align: right;\n",
       "    }\n",
       "</style>\n",
       "<table border=\"1\" class=\"dataframe\">\n",
       "  <thead>\n",
       "    <tr style=\"text-align: right;\">\n",
       "      <th></th>\n",
       "      <th>price</th>\n",
       "      <th>bedrooms</th>\n",
       "      <th>bathrooms</th>\n",
       "      <th>sqft</th>\n",
       "      <th>sqft_lot</th>\n",
       "      <th>latitude</th>\n",
       "      <th>longitude</th>\n",
       "    </tr>\n",
       "  </thead>\n",
       "  <tbody>\n",
       "    <tr>\n",
       "      <th>0</th>\n",
       "      <td>221900.0</td>\n",
       "      <td>3</td>\n",
       "      <td>1.00</td>\n",
       "      <td>1180</td>\n",
       "      <td>5650</td>\n",
       "      <td>47.5112</td>\n",
       "      <td>-122.257</td>\n",
       "    </tr>\n",
       "    <tr>\n",
       "      <th>1</th>\n",
       "      <td>538000.0</td>\n",
       "      <td>3</td>\n",
       "      <td>2.25</td>\n",
       "      <td>2570</td>\n",
       "      <td>7242</td>\n",
       "      <td>47.7210</td>\n",
       "      <td>-122.319</td>\n",
       "    </tr>\n",
       "    <tr>\n",
       "      <th>2</th>\n",
       "      <td>180000.0</td>\n",
       "      <td>2</td>\n",
       "      <td>1.00</td>\n",
       "      <td>770</td>\n",
       "      <td>10000</td>\n",
       "      <td>47.7379</td>\n",
       "      <td>-122.233</td>\n",
       "    </tr>\n",
       "  </tbody>\n",
       "</table>\n",
       "</div>"
      ],
      "text/plain": [
       "      price  bedrooms  bathrooms  sqft  sqft_lot  latitude  longitude\n",
       "0  221900.0         3       1.00  1180      5650   47.5112   -122.257\n",
       "1  538000.0         3       2.25  2570      7242   47.7210   -122.319\n",
       "2  180000.0         2       1.00   770     10000   47.7379   -122.233"
      ]
     },
     "execution_count": 52,
     "metadata": {},
     "output_type": "execute_result"
    }
   ],
   "source": [
    "sales_formatted.head(3)"
   ]
  },
  {
   "cell_type": "markdown",
   "metadata": {},
   "source": [
    "### Methodology"
   ]
  },
  {
   "cell_type": "code",
   "execution_count": null,
   "metadata": {},
   "outputs": [],
   "source": []
  },
  {
   "cell_type": "markdown",
   "metadata": {},
   "source": [
    "### Analysis"
   ]
  },
  {
   "cell_type": "code",
   "execution_count": null,
   "metadata": {},
   "outputs": [],
   "source": []
  },
  {
   "cell_type": "markdown",
   "metadata": {},
   "source": [
    "### Results and Discussion"
   ]
  },
  {
   "cell_type": "code",
   "execution_count": null,
   "metadata": {},
   "outputs": [],
   "source": []
  },
  {
   "cell_type": "markdown",
   "metadata": {},
   "source": [
    "### Conclusion"
   ]
  },
  {
   "cell_type": "code",
   "execution_count": null,
   "metadata": {},
   "outputs": [],
   "source": []
  }
 ],
 "metadata": {
  "kernelspec": {
   "display_name": "Python 3",
   "language": "python",
   "name": "python3"
  },
  "language_info": {
   "codemirror_mode": {
    "name": "ipython",
    "version": 3
   },
   "file_extension": ".py",
   "mimetype": "text/x-python",
   "name": "python",
   "nbconvert_exporter": "python",
   "pygments_lexer": "ipython3",
   "version": "3.7.3"
  }
 },
 "nbformat": 4,
 "nbformat_minor": 2
}
